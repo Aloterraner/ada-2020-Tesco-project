{
 "cells": [
  {
   "cell_type": "markdown",
   "metadata": {},
   "source": [
    "## Show me your plate and I tell you who you are"
   ]
  },
  {
   "cell_type": "markdown",
   "metadata": {},
   "source": [
    "#### Unified Package Loading Prelude"
   ]
  },
  {
   "cell_type": "code",
   "execution_count": 510,
   "metadata": {},
   "outputs": [],
   "source": [
    "import pickle as pkl \n",
    "import pandas as pd \n",
    "import numpy as np \n",
    "import statsmodels as sml\n",
    "from scipy import stats\n",
    "import seaborn as sns\n",
    "import plotly.express as px\n",
    "import statsmodels.api as sm\n",
    "import statsmodels.formula.api as smf\n",
    "import os \n",
    "import matplotlib.pyplot as plt\n",
    "from sklearn.ensemble import RandomForestRegressor\n",
    "from sklearn.model_selection import cross_val_score\n",
    "from sklearn.ensemble import AdaBoostRegressor\n",
    "from sklearn.linear_model import LinearRegression\n",
    "from sklearn.preprocessing import StandardScaler\n",
    "from sklearn.model_selection import train_test_split\n",
    "from sklearn.pipeline import Pipeline\n",
    "from tqdm import tqdm\n",
    "import itertools as it "
   ]
  },
  {
   "cell_type": "code",
   "execution_count": null,
   "metadata": {},
   "outputs": [],
   "source": [
    "### In Case we need it, load using the GeoPandas Kernel\n",
    "import geopandas as gpd"
   ]
  },
  {
   "cell_type": "code",
   "execution_count": 468,
   "metadata": {},
   "outputs": [],
   "source": [
    "### Association Rule Mining Packags\n",
    "from mlxtend.frequent_patterns import apriori\n",
    "from mlxtend.preprocessing import TransactionEncoder\n",
    "from mlxtend.frequent_patterns import association_rules as arule\n"
   ]
  },
  {
   "cell_type": "markdown",
   "metadata": {},
   "source": [
    "#### Doing an inverse Margaret Thatcher (Not reviving Irish though)"
   ]
  },
  {
   "cell_type": "code",
   "execution_count": 512,
   "metadata": {},
   "outputs": [],
   "source": [
    "# Simple adaptable Model Pipeline Factory\n",
    "def pipeline_factory(scaler, model, x_train, y_train):\n",
    "    \n",
    "    pipeline = Pipeline([\n",
    "        ('scaler',  scaler),\n",
    "        ('regressor',   model)\n",
    "        ])\n",
    "        \n",
    "    pipeline.fit(x_train,y_train)\n",
    "    return pipeline\n"
   ]
  },
  {
   "cell_type": "code",
   "execution_count": null,
   "metadata": {},
   "outputs": [],
   "source": []
  },
  {
   "cell_type": "markdown",
   "metadata": {},
   "source": [
    "#### Defining a few interesing Slices for the DF to use"
   ]
  },
  {
   "cell_type": "code",
   "execution_count": 550,
   "metadata": {},
   "outputs": [],
   "source": [
    "nutrients   = [\"energy_fat\", \"energy_saturate\", \"energy_sugar\", \"energy_protein\",\"energy_carb\",\"energy_fibre\", \"energy_alcohol\"]\n",
    "ethnicities = [\"White_perc\",\"Mixed/multiple_ethnic_groups_perc\",\"Asian/Asian_British_perc\",\"Black/African/Caribbean/Black_British_perc\",\"BAME_perc\"]\n",
    "religions = ['Christian_perc','Buddhist_perc','Hindu_perc','Jewish_perc','Muslim_perc','Sikh_perc','No_religion_perc','Other_religion_perc']\n",
    "months = [\"Jan\", \"Feb\", \"Mar\", \"Apr\", \"May\", \"Jun\", \"Jul\", \"Aug\", \"Sep\", \"Oct\", \"Nov\", \"Dec\"]"
   ]
  },
  {
   "cell_type": "markdown",
   "metadata": {},
   "source": [
    "### Loading the Data"
   ]
  },
  {
   "cell_type": "markdown",
   "metadata": {},
   "source": [
    "#### Loading the yearly Tesco Data"
   ]
  },
  {
   "cell_type": "code",
   "execution_count": 551,
   "metadata": {},
   "outputs": [],
   "source": [
    "### Tesco Data\n",
    "tesco_path = (\"Tesco_Data\")\n",
    "\n",
    "lsoa_year     = pd.read_csv(os.path.join(tesco_path, \"year_lsoa_grocery.csv\"), index_col = \"area_id\")\n",
    "msoa_year     = pd.read_csv(os.path.join(tesco_path, \"year_msoa_grocery.csv\"), index_col = \"area_id\")\n",
    "osward_year   = pd.read_csv(os.path.join(tesco_path, \"year_osward_grocery.csv\"), index_col = \"area_id\")"
   ]
  },
  {
   "cell_type": "markdown",
   "metadata": {},
   "source": [
    "#### Loading the monthly Tesco Data"
   ]
  },
  {
   "cell_type": "code",
   "execution_count": 471,
   "metadata": {},
   "outputs": [],
   "source": [
    "# Why don't the name of months follow a lexographical ordering\n",
    "\n",
    "lsoa_months   = pd.DataFrame()\n",
    "msoa_months   = pd.DataFrame()\n",
    "osward_months = pd.DataFrame()\n",
    "\n",
    "\n",
    "for month in months: \n",
    "    \n",
    "    loading            = pd.read_csv(os.path.join(tesco_path, month +\"_lsoa_grocery.csv\"), index_col = \"area_id\")\n",
    "    loading[\"month\"]   = month\n",
    "    lsoa_months        = lsoa_months.append(loading)\n",
    "    \n",
    "    loading            = pd.read_csv(os.path.join(tesco_path, month +\"_msoa_grocery.csv\"), index_col = \"area_id\")\n",
    "    loading[\"month\"]   = month\n",
    "    msoa_months        = msoa_months.append(loading)\n",
    "    \n",
    "    loading            = pd.read_csv(os.path.join(tesco_path, month +\"_osward_grocery.csv\"), index_col = \"area_id\")\n",
    "    loading[\"month\"]   = month\n",
    "    osward_months      = osward_months.append(loading)\n",
    "    \n",
    "lsoa_months[\"month\"]   = pd.Categorical(lsoa_months['month'], categories=months, ordered=True)\n",
    "msoa_months[\"month\"]   = pd.Categorical(msoa_months['month'], categories=months, ordered=True)\n",
    "osward_months[\"month\"] = pd.Categorical(osward_months['month'], categories=months, ordered=True)"
   ]
  },
  {
   "cell_type": "markdown",
   "metadata": {},
   "source": [
    "#### Loading the Socio-Economic Data"
   ]
  },
  {
   "cell_type": "code",
   "execution_count": 472,
   "metadata": {},
   "outputs": [
    {
     "name": "stderr",
     "output_type": "stream",
     "text": [
      "C:\\Users\\49171\\anaconda3\\lib\\site-packages\\IPython\\core\\interactiveshell.py:3071: DtypeWarning: Columns (174,175,176,178,189,253,254) have mixed types.Specify dtype option on import or set low_memory=False.\n",
      "  has_raised = await self.run_ast_nodes(code_ast.body, cell_name,\n"
     ]
    }
   ],
   "source": [
    "### Socio-Economic Data\n",
    "\n",
    "socio_path = (\"Socio_Economic_Data\")\n",
    "\n",
    "lsoa_social     = pd.read_csv(os.path.join(socio_path, \"lsoa-data.csv\"), encoding = \"latin-1\", index_col = \"Lower Super Output Area\")\n",
    "msoa_social     = pd.read_csv(os.path.join(socio_path, \"msoa-data.csv\"), encoding = \"latin-1\", index_col = \"Middle Super Output Area\")\n",
    "osward_social   = pd.read_csv(os.path.join(socio_path, \"ward-atlas-data.csv\"), encoding = \"latin-1\", header = 1, warn_bad_lines = False, error_bad_lines = False)\n",
    "\n",
    "# Drops higher Level Aggregation and NaN Rows\n",
    "\n",
    "lsoa_social     = lsoa_social[lsoa_social[\"Names\"].notna()]\n",
    "msoa_social     = msoa_social[msoa_social[\"MSOA Name\"].notna()]\n",
    "osward_social   = osward_social[osward_social[\"Borough\"].notna()]\n",
    "\n"
   ]
  },
  {
   "cell_type": "code",
   "execution_count": 473,
   "metadata": {},
   "outputs": [
    {
     "data": {
      "text/plain": [
       "['E01000328', 'E01003902']"
      ]
     },
     "execution_count": 473,
     "metadata": {},
     "output_type": "execute_result"
    }
   ],
   "source": [
    "## Two LSOA are not accounted for in the Tesco dataset and will be dropped by the join\n",
    "[x for x in lsoa_social.index if x not in lsoa_year.index]"
   ]
  },
  {
   "cell_type": "markdown",
   "metadata": {},
   "source": [
    "#### Joining the Dataframes"
   ]
  },
  {
   "cell_type": "code",
   "execution_count": 540,
   "metadata": {},
   "outputs": [],
   "source": [
    "lsoa_combined_year = lsoa_social.join(lsoa_year, how = \"inner\")\n",
    "msoa_combined_year = msoa_social.join(msoa_year, how = \"inner\")\n",
    "\n",
    "# Consider only Areas with atleast 5% Representative-ness:\n",
    "\n",
    "lsoa_combined_year     = lsoa_combined_year[lsoa_combined_year.representativeness_norm > 0.05]\n",
    "msoa_combined_year     = msoa_combined_year[msoa_combined_year.representativeness_norm > 0.05]\n",
    "\n",
    "# Remove some of the redundant information in the column names and fill in blanks\n",
    "lsoa_combined_year.columns = [\"_\".join(x.split(\";\")[1:]).replace(\" \", \"_\").replace(\"(%)\", \"perc\").replace(\"(£)\", \"pound\").replace(\"_2011\", \"\") if len(x.split(\";\")) > 1 else x.replace(\" \", \"_\").replace(\"(%)\", \"perc\").replace(\"(£)\", \"pound\") for x in lsoa_combined_year.columns]\n",
    "msoa_combined_year.columns = [\"_\".join(x.split(\";\")[1:]).replace(\" \", \"_\").replace(\"(%)_\", \"perc\").replace(\"(£)\", \"pound\") if len(x.split(\";\")) > 1 else x.replace(\" \", \"_\").replace(\"(%)\", \"perc\").replace(\"(£)\", \"pound\") for x in msoa_combined_year.columns]"
   ]
  },
  {
   "cell_type": "code",
   "execution_count": 475,
   "metadata": {},
   "outputs": [
    {
     "name": "stdout",
     "output_type": "stream",
     "text": [
      "                            OLS Regression Results                            \n",
      "==============================================================================\n",
      "Dep. Variable:         BAME_perc_2011   R-squared:                       0.467\n",
      "Model:                            OLS   Adj. R-squared:                  0.467\n",
      "Method:                 Least Squares   F-statistic:                     585.8\n",
      "Date:                Sun, 22 Nov 2020   Prob (F-statistic):               0.00\n",
      "Time:                        11:23:30   Log-Likelihood:                -19262.\n",
      "No. Observations:                4681   AIC:                         3.854e+04\n",
      "Df Residuals:                    4673   BIC:                         3.859e+04\n",
      "Df Model:                           7                                         \n",
      "Covariance Type:            nonrobust                                         \n",
      "===================================================================================\n",
      "                      coef    std err          t      P>|t|      [0.025      0.975]\n",
      "-----------------------------------------------------------------------------------\n",
      "Intercept         277.0524      5.932     46.701      0.000     265.422     288.683\n",
      "energy_fat          0.6927      0.100      6.910      0.000       0.496       0.889\n",
      "energy_saturate     0.4790      0.191      2.508      0.012       0.105       0.853\n",
      "energy_sugar       -2.6647      0.081    -32.892      0.000      -2.824      -2.506\n",
      "energy_protein     -7.8381      0.217    -36.082      0.000      -8.264      -7.412\n",
      "energy_carb         1.2044      0.046     26.053      0.000       1.114       1.295\n",
      "energy_fibre      -35.9343      1.164    -30.883      0.000     -38.215     -33.653\n",
      "energy_alcohol     -8.0340      0.393    -20.427      0.000      -8.805      -7.263\n",
      "==============================================================================\n",
      "Omnibus:                      404.645   Durbin-Watson:                   0.836\n",
      "Prob(Omnibus):                  0.000   Jarque-Bera (JB):             2045.519\n",
      "Skew:                           0.254   Prob(JB):                         0.00\n",
      "Kurtosis:                       6.198   Cond. No.                     3.39e+03\n",
      "==============================================================================\n",
      "\n",
      "Warnings:\n",
      "[1] Standard Errors assume that the covariance matrix of the errors is correctly specified.\n",
      "[2] The condition number is large, 3.39e+03. This might indicate that there are\n",
      "strong multicollinearity or other numerical problems.\n"
     ]
    }
   ],
   "source": [
    "log_model_interaction_variable = smf.ols(formula='BAME_perc_2011 ~ energy_fat + energy_saturate + energy_sugar + energy_protein + energy_carb + energy_fibre + energy_alcohol',data=lsoa_combined_year)\n",
    "res = log_model_interaction_variable.fit()\n",
    "\n",
    "# Print thes summary output provided by the library.\n",
    "print(res.summary())"
   ]
  },
  {
   "cell_type": "code",
   "execution_count": 476,
   "metadata": {},
   "outputs": [
    {
     "name": "stdout",
     "output_type": "stream",
     "text": [
      "                                          OLS Regression Results                                         \n",
      "=========================================================================================================\n",
      "Dep. Variable:     Median_Annual_Household_Income_estimate_pound   R-squared:                       0.473\n",
      "Model:                                                       OLS   Adj. R-squared:                  0.472\n",
      "Method:                                            Least Squares   F-statistic:                     599.8\n",
      "Date:                                           Sun, 22 Nov 2020   Prob (F-statistic):               0.00\n",
      "Time:                                                   11:23:30   Log-Likelihood:                -48838.\n",
      "No. Observations:                                           4681   AIC:                         9.769e+04\n",
      "Df Residuals:                                               4673   BIC:                         9.774e+04\n",
      "Df Model:                                                      7                                         \n",
      "Covariance Type:                                       nonrobust                                         \n",
      "===================================================================================\n",
      "                      coef    std err          t      P>|t|      [0.025      0.975]\n",
      "-----------------------------------------------------------------------------------\n",
      "Intercept       -3.989e+04   3290.286    -12.123      0.000   -4.63e+04   -3.34e+04\n",
      "energy_fat       -706.7804     55.601    -12.712      0.000    -815.785    -597.776\n",
      "energy_saturate  1593.5691    105.910     15.046      0.000    1385.935    1801.203\n",
      "energy_sugar      501.2458     44.933     11.155      0.000     413.155     589.337\n",
      "energy_protein   1162.5239    120.482      9.649      0.000     926.323    1398.725\n",
      "energy_carb      -748.9677     25.640    -29.211      0.000    -799.234    -698.701\n",
      "energy_fibre     2.864e+04    645.342     44.386      0.000    2.74e+04    2.99e+04\n",
      "energy_alcohol   2977.1232    218.141     13.648      0.000    2549.464    3404.783\n",
      "==============================================================================\n",
      "Omnibus:                      671.744   Durbin-Watson:                   1.202\n",
      "Prob(Omnibus):                  0.000   Jarque-Bera (JB):             7991.529\n",
      "Skew:                           0.256   Prob(JB):                         0.00\n",
      "Kurtosis:                       9.381   Cond. No.                     3.39e+03\n",
      "==============================================================================\n",
      "\n",
      "Warnings:\n",
      "[1] Standard Errors assume that the covariance matrix of the errors is correctly specified.\n",
      "[2] The condition number is large, 3.39e+03. This might indicate that there are\n",
      "strong multicollinearity or other numerical problems.\n"
     ]
    }
   ],
   "source": [
    "log_model_interaction_variable = smf.ols(formula='Median_Annual_Household_Income_estimate_pound ~ energy_fat + energy_saturate + energy_sugar + energy_protein + energy_carb + energy_fibre + energy_alcohol',data=lsoa_combined_year)\n",
    "res = log_model_interaction_variable.fit()\n",
    "\n",
    "# Print thes summary output provided by the library.\n",
    "print(res.summary())"
   ]
  },
  {
   "cell_type": "markdown",
   "metadata": {},
   "source": [
    "#### Preparing the Brine"
   ]
  },
  {
   "cell_type": "code",
   "execution_count": 477,
   "metadata": {},
   "outputs": [
    {
     "name": "stdout",
     "output_type": "stream",
     "text": [
      "Turning the Data into a pickle ... \n",
      "Funniest shit I have ever seen!\n"
     ]
    }
   ],
   "source": [
    "print(\"Turning the Data into a pickle ... \")\n",
    "\n",
    "jar = \"pickle_jar\" \n",
    "\n",
    "msoa_combined_year.to_pickle(path = os.path.join(jar,\"msoa_combined_year.pkl\"))\n",
    "lsoa_combined_year.to_pickle(path = os.path.join(jar,\"lsoa_combined_year.pkl\"))\n",
    "\n",
    "print(\"Funniest shit I have ever seen!\")"
   ]
  },
  {
   "cell_type": "markdown",
   "metadata": {},
   "source": [
    "#### Taking them out of the Jar again"
   ]
  },
  {
   "cell_type": "code",
   "execution_count": 478,
   "metadata": {},
   "outputs": [
    {
     "name": "stdout",
     "output_type": "stream",
     "text": [
      "Loading pickled Data\n"
     ]
    }
   ],
   "source": [
    "print(\"Loading pickled Data\")\n",
    "\n",
    "msoa_combined_year = pd.read_pickle(os.path.join(jar,\"msoa_combined_year.pkl\"))\n",
    "lsoa_combined_year = pd.read_pickle(os.path.join(jar,\"lsoa_combined_year.pkl\"))"
   ]
  },
  {
   "cell_type": "markdown",
   "metadata": {},
   "source": [
    "### Its about Thyme\n",
    "\n",
    "For a short look into the data we will look into the caloric consumption based on different nutrients on the ward level during the twelve month measuring period"
   ]
  },
  {
   "cell_type": "code",
   "execution_count": 479,
   "metadata": {},
   "outputs": [
    {
     "data": {
      "image/png": "[encoded data removed]",
      "text/plain": [
       "<Figure size 1440x720 with 1 Axes>"
      ]
     },
     "metadata": {},
     "output_type": "display_data"
    }
   ],
   "source": [
    "fig, ax = plt.subplots(figsize = (20,10))\n",
    "\n",
    "g = sns.lineplot(data = osward_months.groupby(by = \"month\").sum()[nutrients], ax = ax)\n",
    "plt.show()"
   ]
  },
  {
   "cell_type": "code",
   "execution_count": 480,
   "metadata": {},
   "outputs": [
    {
     "data": {
      "image/png": "[encoded data removed]",
      "text/plain": [
       "<Figure size 2160x2160 with 6 Axes>"
      ]
     },
     "metadata": {},
     "output_type": "display_data"
    }
   ],
   "source": [
    "with sns.axes_style(\"white\"): \n",
    "\n",
    "    f, axes = plt.subplots(3, 2, figsize=(30, 30))\n",
    "    axes = axes.flatten()\n",
    "\n",
    "    for ax, eth in zip(axes,ethnicities):\n",
    "        correl = [(nutr, stats.spearmanr(a = lsoa_combined_year[eth], b = lsoa_combined_year[nutr]).correlation) for nutr in nutrients if stats.spearmanr(a = lsoa_combined_year[eth], b = lsoa_combined_year[nutr]).pvalue < 0.05]\n",
    "        colors = [0 if c[1] >= 0 else 1 for c in correl]\n",
    "        sns.barplot(x= [x[0].split(\"_\")[1] for x in correl], y=[x[1] for x in correl], hue=colors, palette=sns.color_palette(), dodge=False, ax = ax)\n",
    "        ax.axhline(0, ls='-', c = 'k')\n",
    "        ax.get_legend().remove()\n",
    "        ax.set_title(eth.split(\"perc\")[0].replace(\"_\", \" \"))\n",
    "\n",
    "    sns.despine(top = True, right = True)\n",
    "    axes[-1].set_visible(False)\n",
    "\n",
    "plt.show()"
   ]
  },
  {
   "cell_type": "code",
   "execution_count": 481,
   "metadata": {},
   "outputs": [
    {
     "data": {
      "image/png": "[encoded data removed]",
      "text/plain": [
       "<Figure size 2160x2160 with 8 Axes>"
      ]
     },
     "metadata": {},
     "output_type": "display_data"
    }
   ],
   "source": [
    "with sns.axes_style(\"white\"): \n",
    "    \n",
    "    f, axes = plt.subplots(4, 2, figsize=(30, 30))\n",
    "    axes = axes.flatten()\n",
    "\n",
    "    for ax, faith in zip(axes,religions):\n",
    "        correl = [(nutr, stats.spearmanr(a = lsoa_combined_year[faith], b = lsoa_combined_year[nutr]).correlation) for nutr in nutrients if stats.spearmanr(a = lsoa_combined_year[faith], b = lsoa_combined_year[nutr]).pvalue < 0.05]\n",
    "        colors = [0 if c[1] >= 0 else 1 for c in correl]\n",
    "        sns.barplot(x= [x[0].split(\"_\")[1] for x in correl], y=[x[1] for x in correl], hue=colors, palette=sns.color_palette(), dodge=False, ax = ax)\n",
    "        ax.axhline(0, ls='-', c = 'k')\n",
    "        ax.get_legend().remove()\n",
    "        ax.set_title(faith.split(\"perc\")[0].replace(\"_\", \" \"))\n",
    "\n",
    "    sns.despine(top = True, right = True)\n",
    "    axes[-1].set_visible(False)\n",
    "\n",
    "plt.show()"
   ]
  },
  {
   "cell_type": "code",
   "execution_count": 482,
   "metadata": {},
   "outputs": [
    {
     "data": {
      "image/png": "[encoded data removed]",
      "text/plain": [
       "<Figure size 1080x1080 with 1 Axes>"
      ]
     },
     "metadata": {},
     "output_type": "display_data"
    }
   ],
   "source": [
    "f, (ax) = plt.subplots(1, 1, figsize=(15, 15))\n",
    "correl = [(nutr, stats.spearmanr(a = lsoa_combined_year[\"Median_Annual_Household_Income_estimate_pound\"], b = lsoa_combined_year[nutr]).correlation) for nutr in nutrients if stats.spearmanr(a = lsoa_combined_year[faith], b = lsoa_combined_year[nutr]).pvalue < 0.05]\n",
    "colors = [0 if c[1] >= 0 else 1 for c in correl]\n",
    "sns.barplot(x= [x[0].split(\"_\")[1] for x in correl], y=[x[1] for x in correl], hue=colors, palette=sns.color_palette(), dodge=False, ax = ax)\n",
    "sns.despine(top = True, right = True)\n",
    "ax.get_legend().remove()\n",
    "ax.axhline(0, ls='-', c = 'k')\n",
    "ax.set_title(\"Median Household Income\")\n",
    "plt.show()"
   ]
  },
  {
   "cell_type": "code",
   "execution_count": 546,
   "metadata": {},
   "outputs": [
    {
     "data": {
      "text/html": [
       "<div>\n",
       "<style scoped>\n",
       "    .dataframe tbody tr th:only-of-type {\n",
       "        vertical-align: middle;\n",
       "    }\n",
       "\n",
       "    .dataframe tbody tr th {\n",
       "        vertical-align: top;\n",
       "    }\n",
       "\n",
       "    .dataframe thead th {\n",
       "        text-align: right;\n",
       "    }\n",
       "</style>\n",
       "<table border=\"1\" class=\"dataframe\">\n",
       "  <thead>\n",
       "    <tr style=\"text-align: right;\">\n",
       "      <th></th>\n",
       "      <th>antecedents</th>\n",
       "      <th>consequents</th>\n",
       "      <th>antecedent support</th>\n",
       "      <th>consequent support</th>\n",
       "      <th>support</th>\n",
       "      <th>confidence</th>\n",
       "      <th>lift</th>\n",
       "      <th>leverage</th>\n",
       "      <th>conviction</th>\n",
       "    </tr>\n",
       "  </thead>\n",
       "  <tbody>\n",
       "    <tr>\n",
       "      <th>7005</th>\n",
       "      <td>(sugar_Low, carb_Low, fibre_High)</td>\n",
       "      <td>(Median_Income_High)</td>\n",
       "      <td>0.068148</td>\n",
       "      <td>0.249947</td>\n",
       "      <td>0.054048</td>\n",
       "      <td>0.793103</td>\n",
       "      <td>3.173092</td>\n",
       "      <td>0.037015</td>\n",
       "      <td>3.625258</td>\n",
       "    </tr>\n",
       "    <tr>\n",
       "      <th>2221</th>\n",
       "      <td>(carb_Low, fibre_High)</td>\n",
       "      <td>(Median_Income_High)</td>\n",
       "      <td>0.086520</td>\n",
       "      <td>0.249947</td>\n",
       "      <td>0.068361</td>\n",
       "      <td>0.790123</td>\n",
       "      <td>3.161169</td>\n",
       "      <td>0.046736</td>\n",
       "      <td>3.573784</td>\n",
       "    </tr>\n",
       "    <tr>\n",
       "      <th>6079</th>\n",
       "      <td>(fat_High, saturate_High, protein_Low)</td>\n",
       "      <td>(Asian/Asian_High)</td>\n",
       "      <td>0.072634</td>\n",
       "      <td>0.249733</td>\n",
       "      <td>0.053835</td>\n",
       "      <td>0.741176</td>\n",
       "      <td>2.967876</td>\n",
       "      <td>0.035696</td>\n",
       "      <td>2.898759</td>\n",
       "    </tr>\n",
       "    <tr>\n",
       "      <th>2204</th>\n",
       "      <td>(sugar_Low, fibre_High)</td>\n",
       "      <td>(Median_Income_High)</td>\n",
       "      <td>0.083102</td>\n",
       "      <td>0.249947</td>\n",
       "      <td>0.060671</td>\n",
       "      <td>0.730077</td>\n",
       "      <td>2.920932</td>\n",
       "      <td>0.039900</td>\n",
       "      <td>2.778769</td>\n",
       "    </tr>\n",
       "    <tr>\n",
       "      <th>1381</th>\n",
       "      <td>(saturate_High, protein_Low)</td>\n",
       "      <td>(Asian/Asian_High)</td>\n",
       "      <td>0.091006</td>\n",
       "      <td>0.249733</td>\n",
       "      <td>0.066439</td>\n",
       "      <td>0.730047</td>\n",
       "      <td>2.923310</td>\n",
       "      <td>0.043712</td>\n",
       "      <td>2.779250</td>\n",
       "    </tr>\n",
       "    <tr>\n",
       "      <th>2225</th>\n",
       "      <td>(fibre_Low, alcohol_Low)</td>\n",
       "      <td>(Median_Income_Low)</td>\n",
       "      <td>0.074343</td>\n",
       "      <td>0.249947</td>\n",
       "      <td>0.053621</td>\n",
       "      <td>0.721264</td>\n",
       "      <td>2.885674</td>\n",
       "      <td>0.035039</td>\n",
       "      <td>2.690913</td>\n",
       "    </tr>\n",
       "    <tr>\n",
       "      <th>6955</th>\n",
       "      <td>(fat_High, saturate_High, protein_Low)</td>\n",
       "      <td>(No_religion_Low)</td>\n",
       "      <td>0.072634</td>\n",
       "      <td>0.248451</td>\n",
       "      <td>0.051912</td>\n",
       "      <td>0.714706</td>\n",
       "      <td>2.876645</td>\n",
       "      <td>0.033866</td>\n",
       "      <td>2.634295</td>\n",
       "    </tr>\n",
       "    <tr>\n",
       "      <th>1376</th>\n",
       "      <td>(fat_High, protein_Low)</td>\n",
       "      <td>(Asian/Asian_High)</td>\n",
       "      <td>0.081179</td>\n",
       "      <td>0.249733</td>\n",
       "      <td>0.057253</td>\n",
       "      <td>0.705263</td>\n",
       "      <td>2.824069</td>\n",
       "      <td>0.036980</td>\n",
       "      <td>2.545549</td>\n",
       "    </tr>\n",
       "    <tr>\n",
       "      <th>2107</th>\n",
       "      <td>(saturate_High, protein_Low)</td>\n",
       "      <td>(No_religion_Low)</td>\n",
       "      <td>0.091006</td>\n",
       "      <td>0.248451</td>\n",
       "      <td>0.064089</td>\n",
       "      <td>0.704225</td>\n",
       "      <td>2.834462</td>\n",
       "      <td>0.041478</td>\n",
       "      <td>2.540951</td>\n",
       "    </tr>\n",
       "    <tr>\n",
       "      <th>9879</th>\n",
       "      <td>(fat_High, saturate_High, protein_Low)</td>\n",
       "      <td>(White_Low, BAME_High)</td>\n",
       "      <td>0.072634</td>\n",
       "      <td>0.249092</td>\n",
       "      <td>0.050630</td>\n",
       "      <td>0.697059</td>\n",
       "      <td>2.798398</td>\n",
       "      <td>0.032538</td>\n",
       "      <td>2.478725</td>\n",
       "    </tr>\n",
       "    <tr>\n",
       "      <th>6704</th>\n",
       "      <td>(fat_High, saturate_High, protein_Low)</td>\n",
       "      <td>(BAME_High)</td>\n",
       "      <td>0.072634</td>\n",
       "      <td>0.249092</td>\n",
       "      <td>0.050630</td>\n",
       "      <td>0.697059</td>\n",
       "      <td>2.798398</td>\n",
       "      <td>0.032538</td>\n",
       "      <td>2.478725</td>\n",
       "    </tr>\n",
       "    <tr>\n",
       "      <th>3711</th>\n",
       "      <td>(fat_High, saturate_High, protein_Low)</td>\n",
       "      <td>(White_Low)</td>\n",
       "      <td>0.072634</td>\n",
       "      <td>0.249092</td>\n",
       "      <td>0.050630</td>\n",
       "      <td>0.697059</td>\n",
       "      <td>2.798398</td>\n",
       "      <td>0.032538</td>\n",
       "      <td>2.478725</td>\n",
       "    </tr>\n",
       "    <tr>\n",
       "      <th>6961</th>\n",
       "      <td>(sugar_Low, protein_High, carb_Low)</td>\n",
       "      <td>(No_religion_High)</td>\n",
       "      <td>0.075625</td>\n",
       "      <td>0.247169</td>\n",
       "      <td>0.051271</td>\n",
       "      <td>0.677966</td>\n",
       "      <td>2.742921</td>\n",
       "      <td>0.032579</td>\n",
       "      <td>2.337737</td>\n",
       "    </tr>\n",
       "    <tr>\n",
       "      <th>2103</th>\n",
       "      <td>(fat_High, protein_Low)</td>\n",
       "      <td>(No_religion_Low)</td>\n",
       "      <td>0.081179</td>\n",
       "      <td>0.248451</td>\n",
       "      <td>0.054903</td>\n",
       "      <td>0.676316</td>\n",
       "      <td>2.722127</td>\n",
       "      <td>0.034734</td>\n",
       "      <td>2.321858</td>\n",
       "    </tr>\n",
       "    <tr>\n",
       "      <th>2123</th>\n",
       "      <td>(protein_High, carb_Low)</td>\n",
       "      <td>(No_religion_High)</td>\n",
       "      <td>0.087161</td>\n",
       "      <td>0.247169</td>\n",
       "      <td>0.058748</td>\n",
       "      <td>0.674020</td>\n",
       "      <td>2.726954</td>\n",
       "      <td>0.037205</td>\n",
       "      <td>2.309435</td>\n",
       "    </tr>\n",
       "    <tr>\n",
       "      <th>1968</th>\n",
       "      <td>(saturate_High, protein_Low)</td>\n",
       "      <td>(Hindu_High)</td>\n",
       "      <td>0.091006</td>\n",
       "      <td>0.249092</td>\n",
       "      <td>0.061312</td>\n",
       "      <td>0.673709</td>\n",
       "      <td>2.704658</td>\n",
       "      <td>0.038643</td>\n",
       "      <td>2.301344</td>\n",
       "    </tr>\n",
       "    <tr>\n",
       "      <th>6049</th>\n",
       "      <td>(saturate_High, protein_Low)</td>\n",
       "      <td>(Asian/Asian_High, No_religion_Low)</td>\n",
       "      <td>0.091006</td>\n",
       "      <td>0.174535</td>\n",
       "      <td>0.061098</td>\n",
       "      <td>0.671362</td>\n",
       "      <td>3.846564</td>\n",
       "      <td>0.045214</td>\n",
       "      <td>2.511771</td>\n",
       "    </tr>\n",
       "    <tr>\n",
       "      <th>348</th>\n",
       "      <td>(saturate_High, protein_Low)</td>\n",
       "      <td>(White_Low)</td>\n",
       "      <td>0.091006</td>\n",
       "      <td>0.249092</td>\n",
       "      <td>0.061098</td>\n",
       "      <td>0.671362</td>\n",
       "      <td>2.695234</td>\n",
       "      <td>0.038429</td>\n",
       "      <td>2.284906</td>\n",
       "    </tr>\n",
       "    <tr>\n",
       "      <th>3254</th>\n",
       "      <td>(saturate_High, protein_Low)</td>\n",
       "      <td>(White_Low, BAME_High)</td>\n",
       "      <td>0.091006</td>\n",
       "      <td>0.249092</td>\n",
       "      <td>0.061098</td>\n",
       "      <td>0.671362</td>\n",
       "      <td>2.695234</td>\n",
       "      <td>0.038429</td>\n",
       "      <td>2.284906</td>\n",
       "    </tr>\n",
       "    <tr>\n",
       "      <th>1780</th>\n",
       "      <td>(saturate_High, protein_Low)</td>\n",
       "      <td>(BAME_High)</td>\n",
       "      <td>0.091006</td>\n",
       "      <td>0.249092</td>\n",
       "      <td>0.061098</td>\n",
       "      <td>0.671362</td>\n",
       "      <td>2.695234</td>\n",
       "      <td>0.038429</td>\n",
       "      <td>2.284906</td>\n",
       "    </tr>\n",
       "  </tbody>\n",
       "</table>\n",
       "</div>"
      ],
      "text/plain": [
       "                                 antecedents  \\\n",
       "7005       (sugar_Low, carb_Low, fibre_High)   \n",
       "2221                  (carb_Low, fibre_High)   \n",
       "6079  (fat_High, saturate_High, protein_Low)   \n",
       "2204                 (sugar_Low, fibre_High)   \n",
       "1381            (saturate_High, protein_Low)   \n",
       "2225                (fibre_Low, alcohol_Low)   \n",
       "6955  (fat_High, saturate_High, protein_Low)   \n",
       "1376                 (fat_High, protein_Low)   \n",
       "2107            (saturate_High, protein_Low)   \n",
       "9879  (fat_High, saturate_High, protein_Low)   \n",
       "6704  (fat_High, saturate_High, protein_Low)   \n",
       "3711  (fat_High, saturate_High, protein_Low)   \n",
       "6961     (sugar_Low, protein_High, carb_Low)   \n",
       "2103                 (fat_High, protein_Low)   \n",
       "2123                (protein_High, carb_Low)   \n",
       "1968            (saturate_High, protein_Low)   \n",
       "6049            (saturate_High, protein_Low)   \n",
       "348             (saturate_High, protein_Low)   \n",
       "3254            (saturate_High, protein_Low)   \n",
       "1780            (saturate_High, protein_Low)   \n",
       "\n",
       "                              consequents  antecedent support  \\\n",
       "7005                 (Median_Income_High)            0.068148   \n",
       "2221                 (Median_Income_High)            0.086520   \n",
       "6079                   (Asian/Asian_High)            0.072634   \n",
       "2204                 (Median_Income_High)            0.083102   \n",
       "1381                   (Asian/Asian_High)            0.091006   \n",
       "2225                  (Median_Income_Low)            0.074343   \n",
       "6955                    (No_religion_Low)            0.072634   \n",
       "1376                   (Asian/Asian_High)            0.081179   \n",
       "2107                    (No_religion_Low)            0.091006   \n",
       "9879               (White_Low, BAME_High)            0.072634   \n",
       "6704                          (BAME_High)            0.072634   \n",
       "3711                          (White_Low)            0.072634   \n",
       "6961                   (No_religion_High)            0.075625   \n",
       "2103                    (No_religion_Low)            0.081179   \n",
       "2123                   (No_religion_High)            0.087161   \n",
       "1968                         (Hindu_High)            0.091006   \n",
       "6049  (Asian/Asian_High, No_religion_Low)            0.091006   \n",
       "348                           (White_Low)            0.091006   \n",
       "3254               (White_Low, BAME_High)            0.091006   \n",
       "1780                          (BAME_High)            0.091006   \n",
       "\n",
       "      consequent support   support  confidence      lift  leverage  conviction  \n",
       "7005            0.249947  0.054048    0.793103  3.173092  0.037015    3.625258  \n",
       "2221            0.249947  0.068361    0.790123  3.161169  0.046736    3.573784  \n",
       "6079            0.249733  0.053835    0.741176  2.967876  0.035696    2.898759  \n",
       "2204            0.249947  0.060671    0.730077  2.920932  0.039900    2.778769  \n",
       "1381            0.249733  0.066439    0.730047  2.923310  0.043712    2.779250  \n",
       "2225            0.249947  0.053621    0.721264  2.885674  0.035039    2.690913  \n",
       "6955            0.248451  0.051912    0.714706  2.876645  0.033866    2.634295  \n",
       "1376            0.249733  0.057253    0.705263  2.824069  0.036980    2.545549  \n",
       "2107            0.248451  0.064089    0.704225  2.834462  0.041478    2.540951  \n",
       "9879            0.249092  0.050630    0.697059  2.798398  0.032538    2.478725  \n",
       "6704            0.249092  0.050630    0.697059  2.798398  0.032538    2.478725  \n",
       "3711            0.249092  0.050630    0.697059  2.798398  0.032538    2.478725  \n",
       "6961            0.247169  0.051271    0.677966  2.742921  0.032579    2.337737  \n",
       "2103            0.248451  0.054903    0.676316  2.722127  0.034734    2.321858  \n",
       "2123            0.247169  0.058748    0.674020  2.726954  0.037205    2.309435  \n",
       "1968            0.249092  0.061312    0.673709  2.704658  0.038643    2.301344  \n",
       "6049            0.174535  0.061098    0.671362  3.846564  0.045214    2.511771  \n",
       "348             0.249092  0.061098    0.671362  2.695234  0.038429    2.284906  \n",
       "3254            0.249092  0.061098    0.671362  2.695234  0.038429    2.284906  \n",
       "1780            0.249092  0.061098    0.671362  2.695234  0.038429    2.284906  "
      ]
     },
     "execution_count": 546,
     "metadata": {},
     "output_type": "execute_result"
    }
   ],
   "source": [
    "lsoa_combined_items = lsoa_combined_year[ethnicities + religions + nutrients + [\"Median_Annual_Household_Income_estimate_pound\"]].copy()\n",
    "lsoa_combined_items.columns = [x.split(\"_\")[0] for x in  ethnicities] + ['Christian', 'Buddhist','Hindu','Jewish','Muslim','Sikh','No_religion','Other_religion']  + [x.split(\"_\")[1] for x in  nutrients] + [\"Median_Income\"] \n",
    " \n",
    "# You could do this probably somewhat smarter \n",
    "# Encoding Data into a \"Set\" Dataset\n",
    "for col in lsoa_combined_items.columns:\n",
    "    lower  =  lsoa_combined_items[col].quantile(0.25)\n",
    "    middle =  lsoa_combined_items[col].quantile(0.5)\n",
    "    higher =  lsoa_combined_items[col].quantile(0.75)\n",
    "    lsoa_combined_items[col + \"_Low\"] = lsoa_combined_items[col].apply(lambda x : x < lower)\n",
    "    lsoa_combined_items[col + \"_Low_to_Middle\"] = lsoa_combined_items[col].apply(lambda x : x >= lower and x < middle)\n",
    "    lsoa_combined_items[col + \"_Middle_to_High\"] = lsoa_combined_items[col].apply(lambda x :  x < higher and x > middle)\n",
    "    lsoa_combined_items[col + \"_High\"] = lsoa_combined_items[col].apply(lambda x : x > higher )\n",
    "    lsoa_combined_items = lsoa_combined_items.drop(col, axis = 1)\n",
    "    \n",
    "\n",
    "# Given the structure of the information, low support is indemic\n",
    "frequent_itemsets = apriori(lsoa_combined_items, min_support = 0.05, use_colnames = True)\n",
    "\n",
    "# Use Association Rules as an \"explainable\" Model\n",
    "cleaned_names = [x.split(\"_\")[1] for x in nutrients]\n",
    "cleaned_names = [x + \"_High\" for x in cleaned_names] + [x + \"_Low\" for x in cleaned_names] + [x + \"Low_to_Middle\" for x in cleaned_names]+ [x + \"Middle_to_High\" for x in cleaned_names]\n",
    "nutrient_sets = set(cleaned_names)\n",
    "\n",
    "rules_association = arule(frequent_itemsets, metric = 'confidence', min_threshold = 0.6)\n",
    "rules_association[rules_association.apply(lambda x : True if x[\"antecedents\"].issubset(nutrient_sets) and not x[\"consequents\"].issubset(nutrient_sets) else False, axis = 1)].sort_values(by = \"confidence\", ascending = False).head(20)"
   ]
  },
  {
   "cell_type": "code",
   "execution_count": 509,
   "metadata": {},
   "outputs": [
    {
     "name": "stderr",
     "output_type": "stream",
     "text": [
      "0it [00:00, ?it/s]"
     ]
    },
    {
     "name": "stdout",
     "output_type": "stream",
     "text": [
      "\n",
      " (75, 'auto')\n"
     ]
    },
    {
     "name": "stderr",
     "output_type": "stream",
     "text": [
      "1it [00:07,  7.99s/it]"
     ]
    },
    {
     "name": "stdout",
     "output_type": "stream",
     "text": [
      "0.45731363123289565\n",
      "\n",
      " (75, 'sqrt')\n"
     ]
    },
    {
     "name": "stderr",
     "output_type": "stream",
     "text": [
      "2it [00:11,  6.65s/it]"
     ]
    },
    {
     "name": "stdout",
     "output_type": "stream",
     "text": [
      "0.4627618316660997\n",
      "\n",
      " (100, 'auto')\n"
     ]
    },
    {
     "name": "stderr",
     "output_type": "stream",
     "text": [
      "3it [00:22,  7.84s/it]"
     ]
    },
    {
     "name": "stdout",
     "output_type": "stream",
     "text": [
      "0.45873916095827105\n",
      "\n",
      " (100, 'sqrt')\n"
     ]
    },
    {
     "name": "stderr",
     "output_type": "stream",
     "text": [
      "4it [00:27,  7.06s/it]"
     ]
    },
    {
     "name": "stdout",
     "output_type": "stream",
     "text": [
      "0.4623480467729322\n",
      "\n",
      " (200, 'auto')\n"
     ]
    },
    {
     "name": "stderr",
     "output_type": "stream",
     "text": [
      "5it [00:48, 11.35s/it]"
     ]
    },
    {
     "name": "stdout",
     "output_type": "stream",
     "text": [
      "0.4616837112996686\n",
      "\n",
      " (200, 'sqrt')\n"
     ]
    },
    {
     "name": "stderr",
     "output_type": "stream",
     "text": [
      "6it [00:58, 10.87s/it]"
     ]
    },
    {
     "name": "stdout",
     "output_type": "stream",
     "text": [
      "0.4636050873680853\n",
      "\n",
      " (250, 'auto')\n"
     ]
    },
    {
     "name": "stderr",
     "output_type": "stream",
     "text": [
      "7it [01:27, 16.32s/it]"
     ]
    },
    {
     "name": "stdout",
     "output_type": "stream",
     "text": [
      "0.45943373417423183\n",
      "\n",
      " (250, 'sqrt')\n"
     ]
    },
    {
     "name": "stderr",
     "output_type": "stream",
     "text": [
      "8it [01:39, 12.41s/it]"
     ]
    },
    {
     "name": "stdout",
     "output_type": "stream",
     "text": [
      "0.4681098886762303\n"
     ]
    },
    {
     "name": "stderr",
     "output_type": "stream",
     "text": [
      "\n"
     ]
    }
   ],
   "source": [
    "X = lsoa_combined_year[nutrients]\n",
    "y = lsoa_combined_year['Median_Annual_Household_Income_estimate_pound']\n",
    "n_estimators =  [75,100,200,250]\n",
    "max_features = [\"auto\", \"sqrt\"]\n",
    "\n",
    "    \n",
    "for x in tqdm(it.product(n_estimators,max_features)): \n",
    "    print(\"\\n\", x)\n",
    "    random_forest = RandomForestRegressor(n_estimators = x[0], max_features = x[1])\n",
    "    print(cross_val_score(estimator = random_forest, X = X, y = y, cv = 20, n_jobs = -1).mean())\n",
    "    "
   ]
  },
  {
   "cell_type": "code",
   "execution_count": 547,
   "metadata": {},
   "outputs": [
    {
     "name": "stderr",
     "output_type": "stream",
     "text": [
      "1it [00:06,  6.26s/it]"
     ]
    },
    {
     "name": "stdout",
     "output_type": "stream",
     "text": [
      "0.35058957835090354\n"
     ]
    },
    {
     "name": "stderr",
     "output_type": "stream",
     "text": [
      "2it [00:06,  4.53s/it]"
     ]
    },
    {
     "name": "stdout",
     "output_type": "stream",
     "text": [
      "0.3610931002121213\n"
     ]
    },
    {
     "name": "stderr",
     "output_type": "stream",
     "text": [
      "3it [00:07,  3.35s/it]"
     ]
    },
    {
     "name": "stdout",
     "output_type": "stream",
     "text": [
      "0.36553774541100276\n"
     ]
    },
    {
     "name": "stderr",
     "output_type": "stream",
     "text": [
      "4it [00:08,  2.67s/it]"
     ]
    },
    {
     "name": "stdout",
     "output_type": "stream",
     "text": [
      "0.3083318214331389\n"
     ]
    },
    {
     "name": "stderr",
     "output_type": "stream",
     "text": [
      "5it [00:09,  2.16s/it]"
     ]
    },
    {
     "name": "stdout",
     "output_type": "stream",
     "text": [
      "0.3404836177187203\n"
     ]
    },
    {
     "name": "stderr",
     "output_type": "stream",
     "text": [
      "6it [00:10,  1.80s/it]"
     ]
    },
    {
     "name": "stdout",
     "output_type": "stream",
     "text": [
      "0.36491648753047595\n"
     ]
    },
    {
     "name": "stderr",
     "output_type": "stream",
     "text": [
      "7it [00:12,  1.79s/it]"
     ]
    },
    {
     "name": "stdout",
     "output_type": "stream",
     "text": [
      "0.27639902621383045\n"
     ]
    },
    {
     "name": "stderr",
     "output_type": "stream",
     "text": [
      "8it [00:13,  1.78s/it]"
     ]
    },
    {
     "name": "stdout",
     "output_type": "stream",
     "text": [
      "0.3021119153971883\n"
     ]
    },
    {
     "name": "stderr",
     "output_type": "stream",
     "text": [
      "9it [00:15,  1.76s/it]"
     ]
    },
    {
     "name": "stdout",
     "output_type": "stream",
     "text": [
      "0.35966987543019235\n"
     ]
    },
    {
     "name": "stderr",
     "output_type": "stream",
     "text": [
      "10it [00:17,  1.92s/it]"
     ]
    },
    {
     "name": "stdout",
     "output_type": "stream",
     "text": [
      "0.2680368451507208\n"
     ]
    },
    {
     "name": "stderr",
     "output_type": "stream",
     "text": [
      "11it [00:21,  2.42s/it]"
     ]
    },
    {
     "name": "stdout",
     "output_type": "stream",
     "text": [
      "0.27488776971236983\n"
     ]
    },
    {
     "name": "stderr",
     "output_type": "stream",
     "text": [
      "12it [00:25,  2.78s/it]"
     ]
    },
    {
     "name": "stdout",
     "output_type": "stream",
     "text": [
      "0.3482060947122664\n"
     ]
    },
    {
     "name": "stderr",
     "output_type": "stream",
     "text": [
      "13it [00:27,  2.67s/it]"
     ]
    },
    {
     "name": "stdout",
     "output_type": "stream",
     "text": [
      "0.2706505310880737\n"
     ]
    },
    {
     "name": "stderr",
     "output_type": "stream",
     "text": [
      "14it [00:31,  3.21s/it]"
     ]
    },
    {
     "name": "stdout",
     "output_type": "stream",
     "text": [
      "0.2711925664131137\n"
     ]
    },
    {
     "name": "stderr",
     "output_type": "stream",
     "text": [
      "15it [00:36,  2.46s/it]"
     ]
    },
    {
     "name": "stdout",
     "output_type": "stream",
     "text": [
      "0.3382347763694228\n"
     ]
    },
    {
     "name": "stderr",
     "output_type": "stream",
     "text": [
      "\n"
     ]
    }
   ],
   "source": [
    "X = lsoa_combined_year[nutrients]\n",
    "y = lsoa_combined_year['Median_Annual_Household_Income_estimate_pound']\n",
    "n_estimators = [20,50,100,200,250]\n",
    "learning_rate = [0.1, 0.05, 0.01]\n",
    "\n",
    "for x in tqdm(it.product(n_estimators, learning_rate)): \n",
    "    print(\"\\n\", x)\n",
    "    lin_regression = LinearRegression()\n",
    "    ada = AdaBoostRegressor(base_estimator = lin_regression,  n_estimators = x[0], loss = \"linear\", learning_rate = x[1]) \n",
    "  \n",
    "    print(cross_val_score(estimator = ada, X = X, y = y, cv = 20, n_jobs = -1).mean())\n",
    "    "
   ]
  },
  {
   "cell_type": "code",
   "execution_count": 488,
   "metadata": {},
   "outputs": [
    {
     "name": "stderr",
     "output_type": "stream",
     "text": [
      "*c* argument looks like a single numeric RGB or RGBA sequence, which should be avoided as value-mapping will have precedence in case its length matches with *x* & *y*.  Please use the *color* keyword-argument or provide a 2-D array with a single row if you intend to specify the same RGB or RGBA value for all points.\n"
     ]
    },
    {
     "data": {
      "text/plain": [
       "<matplotlib.axes._subplots.AxesSubplot at 0x18a45c421c0>"
      ]
     },
     "execution_count": 488,
     "metadata": {},
     "output_type": "execute_result"
    },
    {
     "data": {
      "image/png": "[encoded data removed]",
      "text/plain": [
       "<Figure size 432x288 with 1 Axes>"
      ]
     },
     "metadata": {},
     "output_type": "display_data"
    }
   ],
   "source": [
    "lsoa_combined_year.plot.scatter(x = \"Median_Annual_Household_Income_estimate_pound\", y = \"energy_fibre\" )"
   ]
  },
  {
   "cell_type": "code",
   "execution_count": 515,
   "metadata": {},
   "outputs": [
    {
     "data": {
      "text/plain": [
       "0.3133644212556176"
      ]
     },
     "execution_count": 515,
     "metadata": {},
     "output_type": "execute_result"
    }
   ],
   "source": [
    "# Shuffle Split \n",
    "x_train, x_test , y_train, y_test = train_test_split(lsoa_combined_year[nutrients], lsoa_combined_year['Median_Annual_Household_Income_estimate_pound'], random_state=0) \n",
    "# The Ada Pipeline \n",
    "ada_pipeline = pipeline_factory(scaler = StandardScaler(), model = AdaBoostRegressor(base_estimator = LinearRegression()), x_train = x_train, y_train = y_train)\n",
    "\n",
    "ada_pipeline.score(x_test, y_test)"
   ]
  },
  {
   "cell_type": "code",
   "execution_count": 524,
   "metadata": {},
   "outputs": [
    {
     "name": "stderr",
     "output_type": "stream",
     "text": [
      "0it [00:00, ?it/s]"
     ]
    },
    {
     "name": "stdout",
     "output_type": "stream",
     "text": [
      "\n",
      " (75, 'auto')\n"
     ]
    },
    {
     "name": "stderr",
     "output_type": "stream",
     "text": [
      "1it [00:07,  7.08s/it]"
     ]
    },
    {
     "name": "stdout",
     "output_type": "stream",
     "text": [
      "0.557711952253416\n",
      "\n",
      " (75, 'sqrt')\n"
     ]
    },
    {
     "name": "stderr",
     "output_type": "stream",
     "text": [
      "2it [00:08,  5.30s/it]"
     ]
    },
    {
     "name": "stdout",
     "output_type": "stream",
     "text": [
      "0.5649677324780058\n",
      "\n",
      " (100, 'auto')\n"
     ]
    },
    {
     "name": "stderr",
     "output_type": "stream",
     "text": [
      "3it [00:10,  4.51s/it]"
     ]
    },
    {
     "name": "stdout",
     "output_type": "stream",
     "text": [
      "0.5593265629803432\n",
      "\n",
      " (100, 'sqrt')\n"
     ]
    },
    {
     "name": "stderr",
     "output_type": "stream",
     "text": [
      "4it [00:12,  3.71s/it]"
     ]
    },
    {
     "name": "stdout",
     "output_type": "stream",
     "text": [
      "0.5616747761267001\n",
      "\n",
      " (200, 'auto')\n"
     ]
    },
    {
     "name": "stderr",
     "output_type": "stream",
     "text": [
      "5it [00:17,  4.12s/it]"
     ]
    },
    {
     "name": "stdout",
     "output_type": "stream",
     "text": [
      "0.5621469890675235\n",
      "\n",
      " (200, 'sqrt')\n"
     ]
    },
    {
     "name": "stderr",
     "output_type": "stream",
     "text": [
      "6it [00:20,  3.75s/it]"
     ]
    },
    {
     "name": "stdout",
     "output_type": "stream",
     "text": [
      "0.5658309117520502\n",
      "\n",
      " (250, 'auto')\n"
     ]
    },
    {
     "name": "stderr",
     "output_type": "stream",
     "text": [
      "7it [00:26,  4.32s/it]"
     ]
    },
    {
     "name": "stdout",
     "output_type": "stream",
     "text": [
      "0.5612681737781187\n",
      "\n",
      " (250, 'sqrt')\n"
     ]
    },
    {
     "name": "stderr",
     "output_type": "stream",
     "text": [
      "8it [00:29,  3.74s/it]"
     ]
    },
    {
     "name": "stdout",
     "output_type": "stream",
     "text": [
      "0.562543610523684\n"
     ]
    },
    {
     "name": "stderr",
     "output_type": "stream",
     "text": [
      "\n"
     ]
    }
   ],
   "source": [
    "\n",
    "X = msoa_combined_year[nutrients]\n",
    "y = msoa_combined_year['Total_Median_Annual_Household_Income_pound_']\n",
    "\n",
    "n_estimators =  [75,100,200,250]\n",
    "max_features = [\"auto\", \"sqrt\"]\n",
    "\n",
    "    \n",
    "for x in tqdm(it.product(n_estimators,max_features)): \n",
    "    print(\"\\n\", x)\n",
    "    random_forest = RandomForestRegressor(n_estimators = x[0], max_features = x[1])\n",
    "    print(cross_val_score(estimator = random_forest, X = X, y = y, cv = 20, n_jobs = -1).mean())\n",
    "    "
   ]
  },
  {
   "cell_type": "code",
   "execution_count": 549,
   "metadata": {},
   "outputs": [
    {
     "name": "stderr",
     "output_type": "stream",
     "text": [
      "0it [00:00, ?it/s]"
     ]
    },
    {
     "name": "stdout",
     "output_type": "stream",
     "text": [
      "\n",
      " (20, 0.1)\n"
     ]
    },
    {
     "name": "stderr",
     "output_type": "stream",
     "text": [
      "1it [00:00,  3.26it/s]"
     ]
    },
    {
     "name": "stdout",
     "output_type": "stream",
     "text": [
      "0.4918458582936826\n",
      "\n",
      " (20, 0.05)\n"
     ]
    },
    {
     "name": "stderr",
     "output_type": "stream",
     "text": [
      "2it [00:00,  3.35it/s]"
     ]
    },
    {
     "name": "stdout",
     "output_type": "stream",
     "text": [
      "0.4949592166669894\n",
      "\n",
      " (20, 0.01)\n"
     ]
    },
    {
     "name": "stderr",
     "output_type": "stream",
     "text": [
      "3it [00:00,  3.24it/s]"
     ]
    },
    {
     "name": "stdout",
     "output_type": "stream",
     "text": [
      "0.501134609877153\n",
      "\n",
      " (50, 0.1)\n"
     ]
    },
    {
     "name": "stderr",
     "output_type": "stream",
     "text": [
      "4it [00:01,  2.37it/s]"
     ]
    },
    {
     "name": "stdout",
     "output_type": "stream",
     "text": [
      "0.46167485168900413\n",
      "\n",
      " (50, 0.05)\n"
     ]
    },
    {
     "name": "stderr",
     "output_type": "stream",
     "text": [
      "5it [00:02,  2.28it/s]"
     ]
    },
    {
     "name": "stdout",
     "output_type": "stream",
     "text": [
      "0.4848030221594152\n",
      "\n",
      " (50, 0.01)\n"
     ]
    },
    {
     "name": "stderr",
     "output_type": "stream",
     "text": [
      "6it [00:02,  2.04it/s]"
     ]
    },
    {
     "name": "stdout",
     "output_type": "stream",
     "text": [
      "0.5020926200333669\n",
      "\n",
      " (100, 0.1)\n"
     ]
    },
    {
     "name": "stderr",
     "output_type": "stream",
     "text": [
      "7it [00:03,  1.82it/s]"
     ]
    },
    {
     "name": "stdout",
     "output_type": "stream",
     "text": [
      "0.44688002475413685\n",
      "\n",
      " (100, 0.05)\n"
     ]
    },
    {
     "name": "stderr",
     "output_type": "stream",
     "text": [
      "8it [00:04,  1.49it/s]"
     ]
    },
    {
     "name": "stdout",
     "output_type": "stream",
     "text": [
      "0.45741427178813227\n",
      "\n",
      " (100, 0.01)\n"
     ]
    },
    {
     "name": "stderr",
     "output_type": "stream",
     "text": [
      "9it [00:05,  1.39it/s]"
     ]
    },
    {
     "name": "stdout",
     "output_type": "stream",
     "text": [
      "0.5026832636426412\n",
      "\n",
      " (200, 0.1)\n"
     ]
    },
    {
     "name": "stderr",
     "output_type": "stream",
     "text": [
      "10it [00:05,  1.41it/s]"
     ]
    },
    {
     "name": "stdout",
     "output_type": "stream",
     "text": [
      "0.4468153126201407\n",
      "\n",
      " (200, 0.05)\n"
     ]
    },
    {
     "name": "stderr",
     "output_type": "stream",
     "text": [
      "11it [00:07,  1.11it/s]"
     ]
    },
    {
     "name": "stdout",
     "output_type": "stream",
     "text": [
      "0.4443836208870547\n",
      "\n",
      " (200, 0.01)\n"
     ]
    },
    {
     "name": "stderr",
     "output_type": "stream",
     "text": [
      "12it [00:08,  1.12s/it]"
     ]
    },
    {
     "name": "stdout",
     "output_type": "stream",
     "text": [
      "0.49086762568135967\n",
      "\n",
      " (250, 0.1)\n"
     ]
    },
    {
     "name": "stderr",
     "output_type": "stream",
     "text": [
      "13it [00:09,  1.02it/s]"
     ]
    },
    {
     "name": "stdout",
     "output_type": "stream",
     "text": [
      "0.44909457027642985\n",
      "\n",
      " (250, 0.05)\n"
     ]
    },
    {
     "name": "stderr",
     "output_type": "stream",
     "text": [
      "14it [00:10,  1.09s/it]"
     ]
    },
    {
     "name": "stdout",
     "output_type": "stream",
     "text": [
      "0.44868535946762583\n",
      "\n",
      " (250, 0.01)\n"
     ]
    },
    {
     "name": "stderr",
     "output_type": "stream",
     "text": [
      "15it [00:13,  1.14it/s]"
     ]
    },
    {
     "name": "stdout",
     "output_type": "stream",
     "text": [
      "0.4867588310519756\n"
     ]
    },
    {
     "name": "stderr",
     "output_type": "stream",
     "text": [
      "\n"
     ]
    }
   ],
   "source": [
    "X = msoa_combined_year[nutrients]\n",
    "y = msoa_combined_year['Total_Median_Annual_Household_Income_pound_']\n",
    "n_estimators = [20,50,100,200,250]\n",
    "learning_rate = [0.1, 0.05, 0.01]\n",
    "\n",
    "for x in tqdm(it.product(n_estimators, learning_rate)): \n",
    "    print(\"\\n\", x)\n",
    "    lin_regression = LinearRegression()\n",
    "    ada = AdaBoostRegressor(base_estimator = lin_regression,  n_estimators = x[0], loss = \"linear\", learning_rate = x[1]) \n",
    "  \n",
    "    print(cross_val_score(estimator = ada, X = X, y = y, cv = 20, n_jobs = -1).mean())\n",
    "    "
   ]
  },
  {
   "cell_type": "code",
   "execution_count": 545,
   "metadata": {},
   "outputs": [
    {
     "data": {
      "text/html": [
       "<div>\n",
       "<style scoped>\n",
       "    .dataframe tbody tr th:only-of-type {\n",
       "        vertical-align: middle;\n",
       "    }\n",
       "\n",
       "    .dataframe tbody tr th {\n",
       "        vertical-align: top;\n",
       "    }\n",
       "\n",
       "    .dataframe thead th {\n",
       "        text-align: right;\n",
       "    }\n",
       "</style>\n",
       "<table border=\"1\" class=\"dataframe\">\n",
       "  <thead>\n",
       "    <tr style=\"text-align: right;\">\n",
       "      <th></th>\n",
       "      <th>antecedents</th>\n",
       "      <th>consequents</th>\n",
       "      <th>antecedent support</th>\n",
       "      <th>consequent support</th>\n",
       "      <th>support</th>\n",
       "      <th>confidence</th>\n",
       "      <th>lift</th>\n",
       "      <th>leverage</th>\n",
       "      <th>conviction</th>\n",
       "    </tr>\n",
       "  </thead>\n",
       "  <tbody>\n",
       "    <tr>\n",
       "      <th>12320</th>\n",
       "      <td>(alcohol_High, carb_Low, fibre_High)</td>\n",
       "      <td>(Median_Income_High)</td>\n",
       "      <td>0.051688</td>\n",
       "      <td>0.250000</td>\n",
       "      <td>0.050633</td>\n",
       "      <td>0.979592</td>\n",
       "      <td>3.918367</td>\n",
       "      <td>0.037711</td>\n",
       "      <td>36.750000</td>\n",
       "    </tr>\n",
       "    <tr>\n",
       "      <th>2899</th>\n",
       "      <td>(alcohol_High, fibre_High)</td>\n",
       "      <td>(Median_Income_High)</td>\n",
       "      <td>0.070675</td>\n",
       "      <td>0.250000</td>\n",
       "      <td>0.063291</td>\n",
       "      <td>0.895522</td>\n",
       "      <td>3.582090</td>\n",
       "      <td>0.045622</td>\n",
       "      <td>7.178571</td>\n",
       "    </tr>\n",
       "    <tr>\n",
       "      <th>9445</th>\n",
       "      <td>(protein_Low, alcohol_Low, saturate_High)</td>\n",
       "      <td>(Asian/Asian_High)</td>\n",
       "      <td>0.059072</td>\n",
       "      <td>0.250000</td>\n",
       "      <td>0.051688</td>\n",
       "      <td>0.875000</td>\n",
       "      <td>3.500000</td>\n",
       "      <td>0.036920</td>\n",
       "      <td>6.000000</td>\n",
       "    </tr>\n",
       "    <tr>\n",
       "      <th>9459</th>\n",
       "      <td>(alcohol_Low, carb_High, protein_Low)</td>\n",
       "      <td>(Asian/Asian_High)</td>\n",
       "      <td>0.063291</td>\n",
       "      <td>0.250000</td>\n",
       "      <td>0.054852</td>\n",
       "      <td>0.866667</td>\n",
       "      <td>3.466667</td>\n",
       "      <td>0.039030</td>\n",
       "      <td>5.625000</td>\n",
       "    </tr>\n",
       "    <tr>\n",
       "      <th>1971</th>\n",
       "      <td>(fibre_High, alcohol_High)</td>\n",
       "      <td>(BAME_Low)</td>\n",
       "      <td>0.070675</td>\n",
       "      <td>0.250000</td>\n",
       "      <td>0.060127</td>\n",
       "      <td>0.850746</td>\n",
       "      <td>3.402985</td>\n",
       "      <td>0.042458</td>\n",
       "      <td>5.025000</td>\n",
       "    </tr>\n",
       "    <tr>\n",
       "      <th>6657</th>\n",
       "      <td>(fibre_High, alcohol_High)</td>\n",
       "      <td>(BAME_Low, White_High)</td>\n",
       "      <td>0.070675</td>\n",
       "      <td>0.250000</td>\n",
       "      <td>0.060127</td>\n",
       "      <td>0.850746</td>\n",
       "      <td>3.402985</td>\n",
       "      <td>0.042458</td>\n",
       "      <td>5.025000</td>\n",
       "    </tr>\n",
       "    <tr>\n",
       "      <th>978</th>\n",
       "      <td>(fibre_High, alcohol_High)</td>\n",
       "      <td>(White_High)</td>\n",
       "      <td>0.070675</td>\n",
       "      <td>0.250000</td>\n",
       "      <td>0.060127</td>\n",
       "      <td>0.850746</td>\n",
       "      <td>3.402985</td>\n",
       "      <td>0.042458</td>\n",
       "      <td>5.025000</td>\n",
       "    </tr>\n",
       "    <tr>\n",
       "      <th>12203</th>\n",
       "      <td>(alcohol_Low, carb_High, protein_Low)</td>\n",
       "      <td>(No_religion_Low)</td>\n",
       "      <td>0.063291</td>\n",
       "      <td>0.250000</td>\n",
       "      <td>0.053797</td>\n",
       "      <td>0.850000</td>\n",
       "      <td>3.400000</td>\n",
       "      <td>0.037975</td>\n",
       "      <td>5.000000</td>\n",
       "    </tr>\n",
       "    <tr>\n",
       "      <th>9424</th>\n",
       "      <td>(fat_High, alcohol_Low, protein_Low)</td>\n",
       "      <td>(Asian/Asian_High)</td>\n",
       "      <td>0.062236</td>\n",
       "      <td>0.250000</td>\n",
       "      <td>0.052743</td>\n",
       "      <td>0.847458</td>\n",
       "      <td>3.389831</td>\n",
       "      <td>0.037184</td>\n",
       "      <td>4.916667</td>\n",
       "    </tr>\n",
       "    <tr>\n",
       "      <th>9439</th>\n",
       "      <td>(protein_Low, carb_High, saturate_High)</td>\n",
       "      <td>(Asian/Asian_High)</td>\n",
       "      <td>0.072785</td>\n",
       "      <td>0.250000</td>\n",
       "      <td>0.061181</td>\n",
       "      <td>0.840580</td>\n",
       "      <td>3.362319</td>\n",
       "      <td>0.042985</td>\n",
       "      <td>4.704545</td>\n",
       "    </tr>\n",
       "    <tr>\n",
       "      <th>30995</th>\n",
       "      <td>(fat_High, carb_High, saturate_High, protein_Low)</td>\n",
       "      <td>(Asian/Asian_High)</td>\n",
       "      <td>0.069620</td>\n",
       "      <td>0.250000</td>\n",
       "      <td>0.058017</td>\n",
       "      <td>0.833333</td>\n",
       "      <td>3.333333</td>\n",
       "      <td>0.040612</td>\n",
       "      <td>4.500000</td>\n",
       "    </tr>\n",
       "    <tr>\n",
       "      <th>30968</th>\n",
       "      <td>(alcohol_Low, carb_High, protein_Low)</td>\n",
       "      <td>(Asian/Asian_High, No_religion_Low)</td>\n",
       "      <td>0.063291</td>\n",
       "      <td>0.182489</td>\n",
       "      <td>0.052743</td>\n",
       "      <td>0.833333</td>\n",
       "      <td>4.566474</td>\n",
       "      <td>0.041193</td>\n",
       "      <td>4.905063</td>\n",
       "    </tr>\n",
       "    <tr>\n",
       "      <th>2889</th>\n",
       "      <td>(carb_Low, fibre_High)</td>\n",
       "      <td>(Median_Income_High)</td>\n",
       "      <td>0.093882</td>\n",
       "      <td>0.250000</td>\n",
       "      <td>0.078059</td>\n",
       "      <td>0.831461</td>\n",
       "      <td>3.325843</td>\n",
       "      <td>0.054589</td>\n",
       "      <td>4.450000</td>\n",
       "    </tr>\n",
       "    <tr>\n",
       "      <th>76256</th>\n",
       "      <td>(sugar_High, carb_High, saturate_High, fat_Hig...</td>\n",
       "      <td>(Sikh_High)</td>\n",
       "      <td>0.062236</td>\n",
       "      <td>0.246835</td>\n",
       "      <td>0.051688</td>\n",
       "      <td>0.830508</td>\n",
       "      <td>3.364624</td>\n",
       "      <td>0.036326</td>\n",
       "      <td>4.443671</td>\n",
       "    </tr>\n",
       "    <tr>\n",
       "      <th>76267</th>\n",
       "      <td>(carb_High, sugar_High, saturate_High, protein...</td>\n",
       "      <td>(Sikh_High, fat_High)</td>\n",
       "      <td>0.062236</td>\n",
       "      <td>0.122363</td>\n",
       "      <td>0.051688</td>\n",
       "      <td>0.830508</td>\n",
       "      <td>6.787259</td>\n",
       "      <td>0.044072</td>\n",
       "      <td>5.178059</td>\n",
       "    </tr>\n",
       "    <tr>\n",
       "      <th>35880</th>\n",
       "      <td>(carb_High, sugar_High, saturate_High, protein...</td>\n",
       "      <td>(Sikh_High)</td>\n",
       "      <td>0.062236</td>\n",
       "      <td>0.246835</td>\n",
       "      <td>0.051688</td>\n",
       "      <td>0.830508</td>\n",
       "      <td>3.364624</td>\n",
       "      <td>0.036326</td>\n",
       "      <td>4.443671</td>\n",
       "    </tr>\n",
       "    <tr>\n",
       "      <th>12192</th>\n",
       "      <td>(protein_Low, carb_High, saturate_High)</td>\n",
       "      <td>(No_religion_Low)</td>\n",
       "      <td>0.072785</td>\n",
       "      <td>0.250000</td>\n",
       "      <td>0.060127</td>\n",
       "      <td>0.826087</td>\n",
       "      <td>3.304348</td>\n",
       "      <td>0.041930</td>\n",
       "      <td>4.312500</td>\n",
       "    </tr>\n",
       "    <tr>\n",
       "      <th>1605</th>\n",
       "      <td>(saturate_High, protein_Low)</td>\n",
       "      <td>(Asian/Asian_High)</td>\n",
       "      <td>0.107595</td>\n",
       "      <td>0.250000</td>\n",
       "      <td>0.088608</td>\n",
       "      <td>0.823529</td>\n",
       "      <td>3.294118</td>\n",
       "      <td>0.061709</td>\n",
       "      <td>4.250000</td>\n",
       "    </tr>\n",
       "    <tr>\n",
       "      <th>12310</th>\n",
       "      <td>(sugar_Low, carb_Low, fibre_High)</td>\n",
       "      <td>(Median_Income_High)</td>\n",
       "      <td>0.077004</td>\n",
       "      <td>0.250000</td>\n",
       "      <td>0.063291</td>\n",
       "      <td>0.821918</td>\n",
       "      <td>3.287671</td>\n",
       "      <td>0.044040</td>\n",
       "      <td>4.211538</td>\n",
       "    </tr>\n",
       "    <tr>\n",
       "      <th>9418</th>\n",
       "      <td>(fat_High, carb_High, protein_Low)</td>\n",
       "      <td>(Asian/Asian_High)</td>\n",
       "      <td>0.077004</td>\n",
       "      <td>0.250000</td>\n",
       "      <td>0.063291</td>\n",
       "      <td>0.821918</td>\n",
       "      <td>3.287671</td>\n",
       "      <td>0.044040</td>\n",
       "      <td>4.211538</td>\n",
       "    </tr>\n",
       "  </tbody>\n",
       "</table>\n",
       "</div>"
      ],
      "text/plain": [
       "                                             antecedents  \\\n",
       "12320               (alcohol_High, carb_Low, fibre_High)   \n",
       "2899                          (alcohol_High, fibre_High)   \n",
       "9445           (protein_Low, alcohol_Low, saturate_High)   \n",
       "9459               (alcohol_Low, carb_High, protein_Low)   \n",
       "1971                          (fibre_High, alcohol_High)   \n",
       "6657                          (fibre_High, alcohol_High)   \n",
       "978                           (fibre_High, alcohol_High)   \n",
       "12203              (alcohol_Low, carb_High, protein_Low)   \n",
       "9424                (fat_High, alcohol_Low, protein_Low)   \n",
       "9439             (protein_Low, carb_High, saturate_High)   \n",
       "30995  (fat_High, carb_High, saturate_High, protein_Low)   \n",
       "30968              (alcohol_Low, carb_High, protein_Low)   \n",
       "2889                              (carb_Low, fibre_High)   \n",
       "76256  (sugar_High, carb_High, saturate_High, fat_Hig...   \n",
       "76267  (carb_High, sugar_High, saturate_High, protein...   \n",
       "35880  (carb_High, sugar_High, saturate_High, protein...   \n",
       "12192            (protein_Low, carb_High, saturate_High)   \n",
       "1605                        (saturate_High, protein_Low)   \n",
       "12310                  (sugar_Low, carb_Low, fibre_High)   \n",
       "9418                  (fat_High, carb_High, protein_Low)   \n",
       "\n",
       "                               consequents  antecedent support  \\\n",
       "12320                 (Median_Income_High)            0.051688   \n",
       "2899                  (Median_Income_High)            0.070675   \n",
       "9445                    (Asian/Asian_High)            0.059072   \n",
       "9459                    (Asian/Asian_High)            0.063291   \n",
       "1971                            (BAME_Low)            0.070675   \n",
       "6657                (BAME_Low, White_High)            0.070675   \n",
       "978                           (White_High)            0.070675   \n",
       "12203                    (No_religion_Low)            0.063291   \n",
       "9424                    (Asian/Asian_High)            0.062236   \n",
       "9439                    (Asian/Asian_High)            0.072785   \n",
       "30995                   (Asian/Asian_High)            0.069620   \n",
       "30968  (Asian/Asian_High, No_religion_Low)            0.063291   \n",
       "2889                  (Median_Income_High)            0.093882   \n",
       "76256                          (Sikh_High)            0.062236   \n",
       "76267                (Sikh_High, fat_High)            0.062236   \n",
       "35880                          (Sikh_High)            0.062236   \n",
       "12192                    (No_religion_Low)            0.072785   \n",
       "1605                    (Asian/Asian_High)            0.107595   \n",
       "12310                 (Median_Income_High)            0.077004   \n",
       "9418                    (Asian/Asian_High)            0.077004   \n",
       "\n",
       "       consequent support   support  confidence      lift  leverage  \\\n",
       "12320            0.250000  0.050633    0.979592  3.918367  0.037711   \n",
       "2899             0.250000  0.063291    0.895522  3.582090  0.045622   \n",
       "9445             0.250000  0.051688    0.875000  3.500000  0.036920   \n",
       "9459             0.250000  0.054852    0.866667  3.466667  0.039030   \n",
       "1971             0.250000  0.060127    0.850746  3.402985  0.042458   \n",
       "6657             0.250000  0.060127    0.850746  3.402985  0.042458   \n",
       "978              0.250000  0.060127    0.850746  3.402985  0.042458   \n",
       "12203            0.250000  0.053797    0.850000  3.400000  0.037975   \n",
       "9424             0.250000  0.052743    0.847458  3.389831  0.037184   \n",
       "9439             0.250000  0.061181    0.840580  3.362319  0.042985   \n",
       "30995            0.250000  0.058017    0.833333  3.333333  0.040612   \n",
       "30968            0.182489  0.052743    0.833333  4.566474  0.041193   \n",
       "2889             0.250000  0.078059    0.831461  3.325843  0.054589   \n",
       "76256            0.246835  0.051688    0.830508  3.364624  0.036326   \n",
       "76267            0.122363  0.051688    0.830508  6.787259  0.044072   \n",
       "35880            0.246835  0.051688    0.830508  3.364624  0.036326   \n",
       "12192            0.250000  0.060127    0.826087  3.304348  0.041930   \n",
       "1605             0.250000  0.088608    0.823529  3.294118  0.061709   \n",
       "12310            0.250000  0.063291    0.821918  3.287671  0.044040   \n",
       "9418             0.250000  0.063291    0.821918  3.287671  0.044040   \n",
       "\n",
       "       conviction  \n",
       "12320   36.750000  \n",
       "2899     7.178571  \n",
       "9445     6.000000  \n",
       "9459     5.625000  \n",
       "1971     5.025000  \n",
       "6657     5.025000  \n",
       "978      5.025000  \n",
       "12203    5.000000  \n",
       "9424     4.916667  \n",
       "9439     4.704545  \n",
       "30995    4.500000  \n",
       "30968    4.905063  \n",
       "2889     4.450000  \n",
       "76256    4.443671  \n",
       "76267    5.178059  \n",
       "35880    4.443671  \n",
       "12192    4.312500  \n",
       "1605     4.250000  \n",
       "12310    4.211538  \n",
       "9418     4.211538  "
      ]
     },
     "execution_count": 545,
     "metadata": {},
     "output_type": "execute_result"
    }
   ],
   "source": [
    "msoa_combined_items = msoa_combined_year[ethnicities + religions + nutrients + [\"Total_Median_Annual_Household_Income_pound_\"]].copy()\n",
    "msoa_combined_items.columns = [x.split(\"_\")[0] for x in  ethnicities] + ['Christian', 'Buddhist','Hindu','Jewish','Muslim','Sikh','No_religion','Other_religion']  + [x.split(\"_\")[1] for x in  nutrients] + [\"Median_Income\"] \n",
    " \n",
    "# You could do this probably somewhat smarter \n",
    "# Encoding Data into a \"Set\" Dataset\n",
    "for col in msoa_combined_items.columns:\n",
    "    lower  =  msoa_combined_items[col].quantile(0.25)\n",
    "    middle =  msoa_combined_items[col].quantile(0.5)\n",
    "    higher =  msoa_combined_items[col].quantile(0.75)\n",
    "    msoa_combined_items[col + \"_Low\"] = msoa_combined_items[col].apply(lambda x : x < lower)\n",
    "    msoa_combined_items[col + \"_Low_to_Middle\"] = msoa_combined_items[col].apply(lambda x : x >= lower and x < middle)\n",
    "    msoa_combined_items[col + \"_Middle_to_High\"] = msoa_combined_items[col].apply(lambda x :  x < higher and x > middle)\n",
    "    msoa_combined_items[col + \"_High\"] = msoa_combined_items[col].apply(lambda x : x > higher )\n",
    "    msoa_combined_items = msoa_combined_items.drop(col, axis = 1)\n",
    "    \n",
    "# Given the structure of the information, low support is indemic\n",
    "frequent_itemsets = apriori(msoa_combined_items, min_support = 0.05, use_colnames = True)\n",
    "\n",
    "# Use Association Rules as an \"explainable\" Model\n",
    "cleaned_names = [x.split(\"_\")[1] for x in nutrients]\n",
    "cleaned_names = [x + \"_High\" for x in cleaned_names] + [x + \"_Low\" for x in cleaned_names] + [x + \"Low_to_Middle\" for x in cleaned_names]+ [x + \"Middle_to_High\" for x in cleaned_names]\n",
    "nutrient_sets = set(cleaned_names)\n",
    "\n",
    "rules_association = arule(frequent_itemsets, metric = 'confidence', min_threshold = 0.6)\n",
    "rules_association[rules_association.apply(lambda x : True if x[\"antecedents\"].issubset(nutrient_sets) and not x[\"consequents\"].issubset(nutrient_sets) else False, axis = 1)].sort_values(by = \"confidence\", ascending = False).head(20)"
   ]
  },
  {
   "cell_type": "code",
   "execution_count": 554,
   "metadata": {},
   "outputs": [
    {
     "name": "stdout",
     "output_type": "stream",
     "text": [
      "                            OLS Regression Results                            \n",
      "==============================================================================\n",
      "Dep. Variable:              BAME_perc   R-squared:                       0.653\n",
      "Model:                            OLS   Adj. R-squared:                  0.651\n",
      "Method:                 Least Squares   F-statistic:                     252.8\n",
      "Date:                Sun, 22 Nov 2020   Prob (F-statistic):          4.00e-211\n",
      "Time:                        13:20:52   Log-Likelihood:                -3646.0\n",
      "No. Observations:                 948   AIC:                             7308.\n",
      "Df Residuals:                     940   BIC:                             7347.\n",
      "Df Model:                           7                                         \n",
      "Covariance Type:            nonrobust                                         \n",
      "===================================================================================\n",
      "                      coef    std err          t      P>|t|      [0.025      0.975]\n",
      "-----------------------------------------------------------------------------------\n",
      "Intercept         389.9415     14.387     27.104      0.000     361.708     418.175\n",
      "energy_fat          1.6758      0.280      5.991      0.000       1.127       2.225\n",
      "energy_saturate    -0.0145      0.514     -0.028      0.977      -1.024       0.995\n",
      "energy_sugar       -4.2436      0.204    -20.770      0.000      -4.645      -3.843\n",
      "energy_protein    -11.3118      0.530    -21.328      0.000     -12.353     -10.271\n",
      "energy_carb         1.4619      0.115     12.706      0.000       1.236       1.688\n",
      "energy_fibre      -53.3439      2.876    -18.546      0.000     -58.989     -47.699\n",
      "energy_alcohol    -11.1374      1.177     -9.464      0.000     -13.447      -8.828\n",
      "==============================================================================\n",
      "Omnibus:                       36.632   Durbin-Watson:                   1.113\n",
      "Prob(Omnibus):                  0.000   Jarque-Bera (JB):               90.934\n",
      "Skew:                           0.138   Prob(JB):                     1.79e-20\n",
      "Kurtosis:                       4.492   Cond. No.                     4.81e+03\n",
      "==============================================================================\n",
      "\n",
      "Warnings:\n",
      "[1] Standard Errors assume that the covariance matrix of the errors is correctly specified.\n",
      "[2] The condition number is large, 4.81e+03. This might indicate that there are\n",
      "strong multicollinearity or other numerical problems.\n"
     ]
    }
   ],
   "source": [
    "log_model_interaction_variable = smf.ols(formula='BAME_perc ~ energy_fat + energy_saturate + energy_sugar + energy_protein + energy_carb + energy_fibre + energy_alcohol',data=msoa_combined_year)\n",
    "res = log_model_interaction_variable.fit()\n",
    "\n",
    "# Print thes summary output provided by the library.\n",
    "print(res.summary())"
   ]
  },
  {
   "cell_type": "code",
   "execution_count": 555,
   "metadata": {},
   "outputs": [
    {
     "name": "stdout",
     "output_type": "stream",
     "text": [
      "                                         OLS Regression Results                                        \n",
      "=======================================================================================================\n",
      "Dep. Variable:     Total_Median_Annual_Household_Income_pound_   R-squared:                       0.595\n",
      "Model:                                                     OLS   Adj. R-squared:                  0.592\n",
      "Method:                                          Least Squares   F-statistic:                     197.6\n",
      "Date:                                         Sun, 22 Nov 2020   Prob (F-statistic):          8.59e-180\n",
      "Time:                                                 13:20:52   Log-Likelihood:                -9737.3\n",
      "No. Observations:                                          948   AIC:                         1.949e+04\n",
      "Df Residuals:                                              940   BIC:                         1.953e+04\n",
      "Df Model:                                                    7                                         \n",
      "Covariance Type:                                     nonrobust                                         \n",
      "===================================================================================\n",
      "                      coef    std err          t      P>|t|      [0.025      0.975]\n",
      "-----------------------------------------------------------------------------------\n",
      "Intercept       -8.898e+04   8881.398    -10.019      0.000   -1.06e+05   -7.15e+04\n",
      "energy_fat      -1172.6666    172.683     -6.791      0.000   -1511.555    -833.778\n",
      "energy_saturate  2558.3840    317.598      8.055      0.000    1935.101    3181.667\n",
      "energy_sugar      781.6455    126.131      6.197      0.000     534.114    1029.177\n",
      "energy_protein   1221.1384    327.422      3.730      0.000     578.576    1863.701\n",
      "energy_carb      -843.5450     71.027    -11.876      0.000    -982.936    -704.154\n",
      "energy_fibre     4.415e+04   1775.655     24.862      0.000    4.07e+04    4.76e+04\n",
      "energy_alcohol   4822.2479    726.480      6.638      0.000    3396.538    6247.958\n",
      "==============================================================================\n",
      "Omnibus:                       96.599   Durbin-Watson:                   1.534\n",
      "Prob(Omnibus):                  0.000   Jarque-Bera (JB):              270.835\n",
      "Skew:                           0.523   Prob(JB):                     1.54e-59\n",
      "Kurtosis:                       5.401   Cond. No.                     4.81e+03\n",
      "==============================================================================\n",
      "\n",
      "Warnings:\n",
      "[1] Standard Errors assume that the covariance matrix of the errors is correctly specified.\n",
      "[2] The condition number is large, 4.81e+03. This might indicate that there are\n",
      "strong multicollinearity or other numerical problems.\n"
     ]
    }
   ],
   "source": [
    "log_model_interaction_variable = smf.ols(formula='Total_Median_Annual_Household_Income_pound_ ~ energy_fat + energy_saturate + energy_sugar + energy_protein + energy_carb + energy_fibre + energy_alcohol',data=msoa_combined_year)\n",
    "res = log_model_interaction_variable.fit()\n",
    "\n",
    "# Print thes summary output provided by the library.\n",
    "print(res.summary())"
   ]
  },
  {
   "cell_type": "code",
   "execution_count": 557,
   "metadata": {},
   "outputs": [
    {
     "name": "stdout",
     "output_type": "stream",
     "text": [
      "MSOA Name\n",
      "Age Structure (2011 Census);All Ages;\n",
      "Age Structure (2011 Census);0-15;\n",
      "Age Structure (2011 Census);16-29;\n",
      "Age Structure (2011 Census);30-44;\n",
      "Age Structure (2011 Census);45-64;\n",
      "Age Structure (2011 Census);65+;\n",
      "Age Structure (2011 Census);Working-age;\n",
      "Mid-year Estimate totals;All Ages;2002\n",
      "Mid-year Estimate totals;All Ages;2003\n",
      "Mid-year Estimate totals;All Ages;2004\n",
      "Mid-year Estimate totals;All Ages;2005\n",
      "Mid-year Estimate totals;All Ages;2006\n",
      "Mid-year Estimate totals;All Ages;2007\n",
      "Mid-year Estimate totals;All Ages;2008\n",
      "Mid-year Estimate totals;All Ages;2009\n",
      "Mid-year Estimate totals;All Ages;2010\n",
      "Mid-year Estimate totals;All Ages;2011\n",
      "Mid-year Estimate totals;All Ages;2012\n",
      "Mid-year Estimates 2012, by age;% 0 to 14;\n",
      "Mid-year Estimates 2012, by age;% 15-64;\n",
      "Mid-year Estimates 2012, by age;% 65+;\n",
      "Mid-year Estimates 2012, by age;0-4;\n",
      "Mid-year Estimates 2012, by age;5-9;\n",
      "Mid-year Estimates 2012, by age;10-14;\n",
      "Mid-year Estimates 2012, by age;15-19;\n",
      "Mid-year Estimates 2012, by age;20-24;\n",
      "Mid-year Estimates 2012, by age;25-29;\n",
      "Mid-year Estimates 2012, by age;30-34;\n",
      "Mid-year Estimates 2012, by age;35-39;\n",
      "Mid-year Estimates 2012, by age;40-44;\n",
      "Mid-year Estimates 2012, by age;45-49;\n",
      "Mid-year Estimates 2012, by age;50-54;\n",
      "Mid-year Estimates 2012, by age;55-59;\n",
      "Mid-year Estimates 2012, by age;60-64;\n",
      "Mid-year Estimates 2012, by age;65-69;\n",
      "Mid-year Estimates 2012, by age;70-74;\n",
      "Mid-year Estimates 2012, by age;75-79;\n",
      "Mid-year Estimates 2012, by age;80-84;\n",
      "Mid-year Estimates 2012, by age;85-89;\n",
      "Mid-year Estimates 2012, by age;90+;\n",
      "Households (2011);All Households;\n",
      "Household Composition (2011);Numbers;Couple household with dependent children\n",
      "Household Composition (2011);Numbers;Couple household without dependent children\n",
      "Household Composition (2011);Numbers;Lone parent household\n",
      "Household Composition (2011);Numbers;One person household\n",
      "Household Composition (2011);Numbers;Other household Types\n",
      "Household Composition (2011);Percentages;Couple household with dependent children\n",
      "Household Composition (2011);Percentages;Couple household without dependent children\n",
      "Household Composition (2011);Percentages;Lone parent household\n",
      "Household Composition (2011);Percentages;One person household\n",
      "Household Composition (2011);Percentages;Other household Types\n",
      "Ethnic Group (2011 Census);White;\n",
      "Ethnic Group (2011 Census);Mixed/multiple ethnic groups;\n",
      "Ethnic Group (2011 Census);Asian/Asian British;\n",
      "Ethnic Group (2011 Census);Black/African/Caribbean/Black British;\n",
      "Ethnic Group (2011 Census);Other ethnic group;\n",
      "Ethnic Group (2011 Census);BAME;\n",
      "Ethnic Group (2011 Census);White (%);\n",
      "Ethnic Group (2011 Census);Mixed/multiple ethnic groups (%);\n",
      "Ethnic Group (2011 Census);Asian/Asian British (%);\n",
      "Ethnic Group (2011 Census);Black/African/Caribbean/Black British (%);\n",
      "Ethnic Group (2011 Census);Other ethnic group (%);\n",
      "Ethnic Group (2011 Census);BAME (%);\n",
      "Country of Birth (2011);United Kingdom;\n",
      "Country of Birth (2011);Not United Kingdom;\n",
      "Country of Birth (2011);United Kingdom (%);\n",
      "Country of Birth (2011);Not United Kingdom (%);\n",
      "Household Language (2011);At least one person aged 16 and over in household has English as a main language;\n",
      "Household Language (2011);No people in household have English as a main language;\n",
      "Household Language (2011);% of people aged 16 and over in household have English as a main language;\n",
      "Household Language (2011);% of households where no people in household have English as a main language;\n",
      "Religion (2011);Christian;\n",
      "Religion (2011);Buddhist;\n",
      "Religion (2011);Hindu;\n",
      "Religion (2011);Jewish;\n",
      "Religion (2011);Muslim;\n",
      "Religion (2011);Sikh;\n",
      "Religion (2011);Other religion;\n",
      "Religion (2011);No religion;\n",
      "Religion (2011);Religion not stated;\n",
      "Religion (2011);Christian (%);\n",
      "Religion (2011);Buddhist (%);\n",
      "Religion (2011);Hindu (%);\n",
      "Religion (2011);Jewish (%);\n",
      "Religion (2011);Muslim (%);\n",
      "Religion (2011);Sikh (%);\n",
      "Religion (2011);Other religion (%);\n",
      "Religion (2011);No religion (%);\n",
      "Religion (2011);Religion not stated (%);\n",
      "Tenure (2011);Owned: Owned outright;\n",
      "Tenure (2011);Owned: Owned with a mortgage or loan;\n",
      "Tenure (2011);Social rented;\n",
      "Tenure (2011);Private rented;\n",
      "Tenure (2011);Owned: Owned outright (%);\n",
      "Tenure (2011);Owned: Owned with a mortgage or loan (%);\n",
      "Tenure (2011);Social rented (%);\n",
      "Tenure (2011);Private rented (%);\n",
      "Dwelling type (2011);Household spaces with at least one usual resident;\n",
      "Dwelling type (2011);Household spaces with no usual residents;\n",
      "Dwelling type (2011);Whole house or bungalow: Detached;\n",
      "Dwelling type (2011);Whole house or bungalow: Semi-detached;\n",
      "Dwelling type (2011);Whole house or bungalow: Terraced (including end-terrace);\n",
      "Dwelling type (2011);Flat, maisonette or apartment;\n",
      "Dwelling type (2011);Household spaces with at least one usual resident (%);\n",
      "Dwelling type (2011);Household spaces with no usual residents (%);\n",
      "Dwelling type (2011);Whole house or bungalow: Detached (%);\n",
      "Dwelling type (2011);Whole house or bungalow: Semi-detached (%);\n",
      "Dwelling type (2011);Whole house or bungalow: Terraced (including end-terrace) (%);\n",
      "Dwelling type (2011);Flat, maisonette or apartment (%);\n",
      "Land Area;Hectares;\n",
      "Population Density;Persons per hectare (2012);\n",
      "House Prices;Median House Price (£);2005\n",
      "House Prices;Median House Price (£);2006\n",
      "House Prices;Median House Price (£);2007\n",
      "House Prices;Median House Price (£);2008\n",
      "House Prices;Median House Price (£);2009\n",
      "House Prices;Median House Price (£);2010\n",
      "House Prices;Median House Price (£);2011\n",
      "House Prices;Median House Price (£);2012\n",
      "House Prices;Median House Price (£);2013 (p)\n",
      "House Prices;Sales;2005\n",
      "House Prices;Sales;2006\n",
      "House Prices;Sales;2007\n",
      "House Prices;Sales;2008\n",
      "House Prices;Sales;2009\n",
      "House Prices;Sales;2010\n",
      "House Prices;Sales;2011\n",
      "House Prices;Sales;2011.1\n",
      "House Prices;Sales;2013(p)\n",
      "Qualifications (2011 Census);No qualifications;\n",
      "Qualifications (2011 Census);Highest level of qualification: Level 1 qualifications;\n",
      "Qualifications (2011 Census);Highest level of qualification: Level 2 qualifications;\n",
      "Qualifications (2011 Census);Highest level of qualification: Apprenticeship;\n",
      "Qualifications (2011 Census);Highest level of qualification: Level 3 qualifications;\n",
      "Qualifications (2011 Census);Highest level of qualification: Level 4 qualifications and above;\n",
      "Qualifications (2011 Census);Highest level of qualification: Other qualifications;\n",
      "Qualifications (2011 Census);Schoolchildren and full-time students: Age 18 and over;\n",
      "Economic Activity (2011 Census);Economically active: Total;\n",
      "Economic Activity (2011 Census);Economically active: Unemployed;\n",
      "Economic Activity (2011 Census);Economically inactive: Total;\n",
      "Economic Activity (2011 Census);Economically active %;\n",
      "Economic Activity (2011 Census);Unemployment Rate;\n",
      "Economic Activity (2011 Census);Economically inactive %;\n",
      "Adults in Employment (2011 Census);No adults in employment in household: With dependent children;\n",
      "Adults in Employment (2011 Census);% of households with no adults in employment: With dependent children;\n",
      "Household Income Estimates (2011/12);Total Mean Annual Household Income (£);\n",
      "Household Income Estimates (2011/12);Total Median Annual Household Income (£);\n",
      "Income Deprivation (2010);% living in income deprived households reliant on means tested benefit;\n",
      "Income Deprivation (2010);% of people aged over 60 who live in pension credit households;\n",
      "Lone Parents (2011 Census);All lone parent housholds with dependent children;\n",
      "Lone Parents (2011 Census);Lone parents not in employment;\n",
      "Lone Parents (2011 Census);Lone parent not in employment %;\n",
      "Central Heating (2011 Census);Households with central heating (%);\n",
      "Health (2011 Census);Day-to-day activities limited a lot;\n",
      "Health (2011 Census);Day-to-day activities limited a little;\n",
      "Health (2011 Census);Day-to-day activities not limited;\n",
      "Health (2011 Census);Day-to-day activities limited a lot (%);\n",
      "Health (2011 Census);Day-to-day activities limited a little (%);\n",
      "Health (2011 Census);Day-to-day activities not limited (%);\n",
      "Health (2011 Census);Very good health;\n",
      "Health (2011 Census);Good health;\n",
      "Health (2011 Census);Fair health;\n",
      "Health (2011 Census);Bad health;\n",
      "Health (2011 Census);Very bad health;\n",
      "Health (2011 Census);Very good health (%);\n",
      "Health (2011 Census);Good health (%);\n",
      "Health (2011 Census);Fair health (%);\n",
      "Health (2011 Census);Bad health (%);\n",
      "Health (2011 Census);Very bad health (%);\n",
      "Low Birth Weight Births (2007-2011);Low Birth Weight Births (%);\n",
      "Low Birth Weight Births (2007-2011);LCL - Lower confidence limit;\n",
      "Low Birth Weight Births (2007-2011);UCL - Upper confidence limit;\n",
      "Obesity;% of measured children in Year 6 who were classified as obese, 2009/10-2011/12;\n",
      "Obesity;Percentage of the population aged 16+ with a BMI of 30+, modelled estimate, 2006-2008;\n",
      "Incidence of Cancer;All;\n",
      "Incidence of Cancer;Breast Cancer;\n",
      "Incidence of Cancer;Colorectal Cancer;\n",
      "Incidence of Cancer;Lung Cancer;\n",
      "Incidence of Cancer;Prostate Cancer;\n",
      "Life Expectancy;Males;\n",
      "Life Expectancy;Females;\n",
      "Car or van availability (2011 Census);No cars or vans in household;\n",
      "Car or van availability (2011 Census);1 car or van in household;\n",
      "Car or van availability (2011 Census);2 cars or vans in household;\n",
      "Car or van availability (2011 Census);3 cars or vans in household;\n",
      "Car or van availability (2011 Census);4 or more cars or vans in household;\n",
      "Car or van availability (2011 Census);Sum of all cars or vans in the area;\n",
      "Car or van availability (2011 Census);No cars or vans in household (%);\n",
      "Car or van availability (2011 Census);1 car or van in household (%);\n",
      "Car or van availability (2011 Census);2 cars or vans in household (%);\n",
      "Car or van availability (2011 Census);3 cars or vans in household (%);\n",
      "Car or van availability (2011 Census);4 or more cars or vans in household (%);\n",
      "Car or van availability (2011 Census);Cars per household;\n",
      "Road Casualties;2010;Fatal\n",
      "Road Casualties;2010;Serious\n",
      "Road Casualties;2010;Slight\n",
      "Road Casualties;2010;2010 Total\n",
      "Road Casualties;2011;Fatal\n",
      "Road Casualties;2011;Serious\n",
      "Road Casualties;2011;Slight\n",
      "Road Casualties;2011;2011 Total\n",
      "Road Casualties;2012;Fatal\n",
      "Road Casualties;2012;Serious\n",
      "Road Casualties;2012;Slight\n",
      "Road Casualties;2012;2012 Total\n"
     ]
    }
   ],
   "source": [
    "for col in msoa_social: \n",
    "    print(col)"
   ]
  },
  {
   "cell_type": "code",
   "execution_count": null,
   "metadata": {},
   "outputs": [],
   "source": []
  }
 ],
 "metadata": {
  "kernelspec": {
   "display_name": "Python 3",
   "language": "python",
   "name": "python3"
  },
  "language_info": {
   "codemirror_mode": {
    "name": "ipython",
    "version": 3
   },
   "file_extension": ".py",
   "mimetype": "text/x-python",
   "name": "python",
   "nbconvert_exporter": "python",
   "pygments_lexer": "ipython3",
   "version": "3.8.3"
  }
 },
 "nbformat": 4,
 "nbformat_minor": 4
}
